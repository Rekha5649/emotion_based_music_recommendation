{
  "nbformat": 4,
  "nbformat_minor": 0,
  "metadata": {
    "colab": {
      "name": "emotion1.ipynb",
      "provenance": [],
      "collapsed_sections": []
    },
    "kernelspec": {
      "display_name": "Python 3",
      "name": "python3"
    },
    "language_info": {
      "name": "python"
    },
    "accelerator": "GPU"
  },
  "cells": [
    {
      "cell_type": "code",
      "metadata": {
        "id": "nR58Qh6M6FE0",
        "colab": {
          "resources": {
            "http://localhost:8080/nbextensions/google.colab/files.js": {
              "data": "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",
              "ok": true,
              "headers": [
                [
                  "content-type",
                  "application/javascript"
                ]
              ],
              "status": 200,
              "status_text": ""
            }
          },
          "base_uri": "https://localhost:8080/",
          "height": 90
        },
        "outputId": "ac50de2d-1b62-4a2d-d9d0-021e93bf203c"
      },
      "source": [
        "# from google.colab import files\n",
        "\n",
        "# uploaded = files.upload()\n",
        "\n",
        "# for fn in uploaded.keys():\n",
        "#   print('User uploaded file \"{name}\" with length {length} bytes'.format(\n",
        "#       name=fn, length=len(uploaded[fn])))"
      ],
      "execution_count": 5,
      "outputs": [
        {
          "output_type": "display_data",
          "data": {
            "text/html": [
              "\n",
              "     <input type=\"file\" id=\"files-0b1a0737-651d-4600-ad54-595e841eef39\" name=\"files[]\" multiple disabled\n",
              "        style=\"border:none\" />\n",
              "     <output id=\"result-0b1a0737-651d-4600-ad54-595e841eef39\">\n",
              "      Upload widget is only available when the cell has been executed in the\n",
              "      current browser session. Please rerun this cell to enable.\n",
              "      </output>\n",
              "      <script src=\"/nbextensions/google.colab/files.js\"></script> "
            ],
            "text/plain": [
              "<IPython.core.display.HTML object>"
            ]
          },
          "metadata": {
            "tags": []
          }
        },
        {
          "output_type": "stream",
          "text": [
            "Saving archive.zip to archive.zip\n",
            "User uploaded file \"archive.zip\" with length 63252113 bytes\n"
          ],
          "name": "stdout"
        }
      ]
    },
    {
      "cell_type": "code",
      "metadata": {
        "colab": {
          "base_uri": "https://localhost:8080/"
        },
        "id": "YENaXENf1jW8",
        "outputId": "cb68b7d5-7efe-48f8-b12e-5057abb617ab"
      },
      "source": [
        "from google.colab import drive\n",
        "drive.mount('/content/drive')"
      ],
      "execution_count": 1,
      "outputs": [
        {
          "output_type": "stream",
          "text": [
            "Mounted at /content/drive\n"
          ],
          "name": "stdout"
        }
      ]
    },
    {
      "cell_type": "code",
      "metadata": {
        "colab": {
          "base_uri": "https://localhost:8080/"
        },
        "id": "Oe359_y6nTtw",
        "outputId": "8b40eecd-7277-494f-ba48-f717f470aab8"
      },
      "source": [
        "%cd /content/drive/MyDrive/EBMRS/"
      ],
      "execution_count": 8,
      "outputs": [
        {
          "output_type": "stream",
          "text": [
            "/content/drive/MyDrive/EBMRS\n"
          ],
          "name": "stdout"
        }
      ]
    },
    {
      "cell_type": "code",
      "metadata": {
        "colab": {
          "base_uri": "https://localhost:8080/"
        },
        "id": "Oh9qEv6EnN2T",
        "outputId": "c83fdc80-3bc5-49e9-e058-d2353cebad74"
      },
      "source": [
        "!ls"
      ],
      "execution_count": 9,
      "outputs": [
        {
          "output_type": "stream",
          "text": [
            "archive.zip\n"
          ],
          "name": "stdout"
        }
      ]
    },
    {
      "cell_type": "code",
      "metadata": {
        "id": "BAtguq7DtYfs",
        "colab": {
          "base_uri": "https://localhost:8080/"
        },
        "outputId": "9418d4c9-7386-4a7d-86ba-a994abab2b88"
      },
      "source": [
        "# !mv emotion1.ipynb /content/drive/MyDrive/EBMRS"
      ],
      "execution_count": 62,
      "outputs": [
        {
          "output_type": "stream",
          "text": [
            "mv: cannot stat 'emotion.ipynb': No such file or directory\n"
          ],
          "name": "stdout"
        }
      ]
    },
    {
      "cell_type": "code",
      "metadata": {
        "id": "2790uvwn6LNQ"
      },
      "source": [
        "# !unzip '/content/drive/MyDrive/EBMRS/archive.zip' -d '/content/drive/MyDrive/EBMRS/tt_data'"
      ],
      "execution_count": null,
      "outputs": []
    },
    {
      "cell_type": "code",
      "metadata": {
        "id": "o0EgZfhmUiLY"
      },
      "source": [
        "# labels: 0=Angry, 1=Disgust, 2=Fear, 3=Happy, 4=Sad, 5=Surprise, 6=Neutral"
      ],
      "execution_count": null,
      "outputs": []
    },
    {
      "cell_type": "code",
      "metadata": {
        "id": "SnUDYXIC7UwJ"
      },
      "source": [
        "import pandas as pd\n",
        "import numpy as np\n",
        "import matplotlib.pyplot as plt\n",
        "import cv2 as cv"
      ],
      "execution_count": 11,
      "outputs": []
    },
    {
      "cell_type": "code",
      "metadata": {
        "id": "yr4KLd3h7M1u",
        "colab": {
          "base_uri": "https://localhost:8080/",
          "height": 301
        },
        "outputId": "22f17b80-752c-4758-d905-46c5d8c9da0b"
      },
      "source": [
        "from keras.preprocessing import image\n",
        "img = image.load_img('tt_data/train/angry/Training_37417413.jpg',target_size=(48,48))\n",
        "img = np.array(img)\n",
        "plt.imshow(img)\n",
        "print(img.shape)\n",
        "\n",
        "img = np.expand_dims(img, axis=0)\n",
        "from keras.models import load_model\n",
        "print(img.shape)"
      ],
      "execution_count": 12,
      "outputs": [
        {
          "output_type": "stream",
          "text": [
            "(48, 48, 3)\n",
            "(1, 48, 48, 3)\n"
          ],
          "name": "stdout"
        },
        {
          "output_type": "display_data",
          "data": {
            "image/png": "[encoded data removed]",
            "text/plain": [
              "<Figure size 432x288 with 1 Axes>"
            ]
          },
          "metadata": {
            "tags": [],
            "needs_background": "light"
          }
        }
      ]
    },
    {
      "cell_type": "markdown",
      "metadata": {
        "id": "cIQewNJg4GSo"
      },
      "source": [
        "# DATA AUGMENTATION"
      ]
    },
    {
      "cell_type": "code",
      "metadata": {
        "id": "ns8EVi37X_JW"
      },
      "source": [
        "from tensorflow.keras.preprocessing.image import ImageDataGenerator"
      ],
      "execution_count": 13,
      "outputs": []
    },
    {
      "cell_type": "code",
      "metadata": {
        "id": "N1RB75MTr3-7"
      },
      "source": [
        "batch_size = 32"
      ],
      "execution_count": 30,
      "outputs": []
    },
    {
      "cell_type": "code",
      "metadata": {
        "id": "pP6IM7geXYom"
      },
      "source": [
        "train_datagen1 = ImageDataGenerator(rescale = 1./255,\n",
        "                                   rotation_range=5,\n",
        "                                   width_shift_range=0.2,\n",
        "                                   height_shift_range=0.2,\n",
        "                                   shear_range=0.2,\n",
        "                                   zoom_range=0.2,        #zoom in the range [1-zoom_range,1+zoom_range]\n",
        "                                   horizontal_flip=True,\n",
        "                                   fill_mode='nearest')\n",
        "\n",
        "valid_datagen1 = ImageDataGenerator(rescale = 1./255,\n",
        "                                  validation_split = 0.2)\n",
        "\n",
        "test_datagen1  = ImageDataGenerator(rescale = 1./255)"
      ],
      "execution_count": 31,
      "outputs": []
    },
    {
      "cell_type": "code",
      "metadata": {
        "colab": {
          "base_uri": "https://localhost:8080/"
        },
        "id": "KKIVJZf6YPYa",
        "outputId": "725d2d8d-9b30-4085-b1a1-eb0cb8d0e021"
      },
      "source": [
        "train_dataset1  = train_datagen1.flow_from_directory(directory = 'tt_data/train',\n",
        "                                                   target_size = (48,48),\n",
        "                                                   class_mode = 'categorical',\n",
        "                                                   subset = 'training',\n",
        "                                                   color_mode = 'grayscale',\n",
        "                                                   shuffle = True,\n",
        "                                                   batch_size = batch_size)"
      ],
      "execution_count": 32,
      "outputs": [
        {
          "output_type": "stream",
          "text": [
            "Found 28709 images belonging to 7 classes.\n"
          ],
          "name": "stdout"
        }
      ]
    },
    {
      "cell_type": "code",
      "metadata": {
        "colab": {
          "base_uri": "https://localhost:8080/"
        },
        "id": "feOeU3-mYV6D",
        "outputId": "a8af5c9a-7bf9-4382-87df-2e2ff1bce6f9"
      },
      "source": [
        "valid_dataset1 = valid_datagen1.flow_from_directory(directory = 'tt_data/train',\n",
        "                                                  target_size = (48,48),\n",
        "                                                  class_mode = 'categorical',\n",
        "                                                  subset = 'validation',\n",
        "                                                  color_mode = 'grayscale',\n",
        "                                                  batch_size = batch_size, \n",
        "                                                  shuffle = True)"
      ],
      "execution_count": 33,
      "outputs": [
        {
          "output_type": "stream",
          "text": [
            "Found 5741 images belonging to 7 classes.\n"
          ],
          "name": "stdout"
        }
      ]
    },
    {
      "cell_type": "code",
      "metadata": {
        "id": "lscNDGnbZ1zY",
        "colab": {
          "base_uri": "https://localhost:8080/"
        },
        "outputId": "d54734f2-2885-4317-b9c4-00266c5ca668"
      },
      "source": [
        "test_dataset1 = test_datagen1.flow_from_directory(directory = 'tt_data/test',\n",
        "                                                  target_size = (48,48),\n",
        "                                                  class_mode = 'categorical',\n",
        "                                                  color_mode = 'grayscale',\n",
        "                                                  batch_size = batch_size, \n",
        "                                                  shuffle = True)"
      ],
      "execution_count": 34,
      "outputs": [
        {
          "output_type": "stream",
          "text": [
            "Found 7178 images belonging to 7 classes.\n"
          ],
          "name": "stdout"
        }
      ]
    },
    {
      "cell_type": "code",
      "metadata": {
        "colab": {
          "base_uri": "https://localhost:8080/"
        },
        "id": "sL3tYQPfqgXY",
        "outputId": "8bdd9ebf-1034-467a-a2fa-a85aea90a45a"
      },
      "source": [
        "train_img = train_dataset1.next()[0]\n",
        "train_lables = train_dataset1.next()[1]\n",
        "valid_img = valid_dataset1.next()[0]\n",
        "valid_lables = valid_dataset1.next()[1]\n",
        "\n",
        "print(f'shape of the train dataset: {train_img.shape}')\n",
        "print(f'shape of the train labels: {train_lables.shape}')\n",
        "print(f'shape of the validation dataset: {train_img.shape}')\n",
        "print(f'shape of the validation labels: {train_lables.shape}')"
      ],
      "execution_count": 36,
      "outputs": [
        {
          "output_type": "stream",
          "text": [
            "shape of the train dataset: (32, 48, 48, 1)\n",
            "shape of the train labels: (32, 7)\n",
            "shape of the validation dataset: (32, 48, 48, 1)\n",
            "shape of the validation labels: (32, 7)\n"
          ],
          "name": "stdout"
        }
      ]
    },
    {
      "cell_type": "code",
      "metadata": {
        "id": "AngOdWowuNWW"
      },
      "source": [
        ""
      ],
      "execution_count": null,
      "outputs": []
    },
    {
      "cell_type": "markdown",
      "metadata": {
        "id": "OMy2wqnJJJEq"
      },
      "source": [
        "# Convolution neural network"
      ]
    },
    {
      "cell_type": "code",
      "metadata": {
        "id": "WzN3IBwXCpEW"
      },
      "source": [
        "import keras\n",
        "from tensorflow.keras.models import Sequential\n",
        "from tensorflow.keras.layers import Dense, Dropout, Flatten\n",
        "from tensorflow.keras.layers import Conv2D, MaxPooling2D, BatchNormalization"
      ],
      "execution_count": 37,
      "outputs": []
    },
    {
      "cell_type": "code",
      "metadata": {
        "id": "ZvqT1YvksmTe"
      },
      "source": [
        "def build_model():  \n",
        "  model = keras.Sequential([\n",
        "                            \n",
        "    #block-1                      \n",
        "    Conv2D(filters=32, kernel_size=(3,3), kernel_initializer='he_normal', activation='relu', input_shape=(48,48,1)),\n",
        "    Conv2D(filters=64, kernel_size=(3,3), kernel_initializer='he_normal', activation='relu'),\n",
        "    MaxPooling2D(pool_size=(2,2)),\n",
        "    BatchNormalization(),\n",
        "\n",
        "    #block-2\n",
        "    Conv2D(filters=128, kernel_size=(3,3), kernel_initializer='he_normal', activation='relu'),\n",
        "    Conv2D(filters=256, kernel_size=(3,3), kernel_initializer='he_normal', activation='relu'),\n",
        "    MaxPooling2D(pool_size=(2,2)),\n",
        "    BatchNormalization(),\n",
        "\n",
        "    Flatten(),\n",
        "    Dense(units=128, activation='relu'),\n",
        "    Dense(units=128, activation='relu'),\n",
        "    BatchNormalization(),\n",
        "\n",
        "    Dense(7, activation='softmax')\n",
        "  ])\n",
        "\n",
        "  model.compile(optimizer=keras.optimizers.Adam(learning_rate=0.001), loss='categorical_crossentropy', metrics=['accuracy'])\n",
        "  \n",
        "  return model"
      ],
      "execution_count": 38,
      "outputs": []
    },
    {
      "cell_type": "code",
      "metadata": {
        "id": "1xVR0r0vs5_1"
      },
      "source": [
        "cnn_model = build_model()"
      ],
      "execution_count": 39,
      "outputs": []
    },
    {
      "cell_type": "code",
      "metadata": {
        "colab": {
          "base_uri": "https://localhost:8080/"
        },
        "id": "OWOohJ7ItHQa",
        "outputId": "b2736539-9c3b-45dc-f576-29c8e7b441c3"
      },
      "source": [
        "history = cnn_model.fit(\n",
        "    train_dataset1,\n",
        "    validation_data=valid_dataset1,\n",
        "    epochs=5,\n",
        "    steps_per_epoch=len(train_dataset1),\n",
        "    validation_steps=len(valid_dataset1)\n",
        ")\n"
      ],
      "execution_count": 40,
      "outputs": [
        {
          "output_type": "stream",
          "text": [
            "Epoch 1/5\n",
            "898/898 [==============================] - 58s 63ms/step - loss: 1.9198 - accuracy: 0.2346 - val_loss: 1.8961 - val_accuracy: 0.2048\n",
            "Epoch 2/5\n",
            "898/898 [==============================] - 56s 62ms/step - loss: 1.7315 - accuracy: 0.2985 - val_loss: 1.9242 - val_accuracy: 0.2782\n",
            "Epoch 3/5\n",
            "898/898 [==============================] - 55s 61ms/step - loss: 1.5895 - accuracy: 0.3745 - val_loss: 1.4374 - val_accuracy: 0.4466\n",
            "Epoch 4/5\n",
            "898/898 [==============================] - 57s 63ms/step - loss: 1.4535 - accuracy: 0.4421 - val_loss: 1.3161 - val_accuracy: 0.4963\n",
            "Epoch 5/5\n",
            "898/898 [==============================] - 56s 62ms/step - loss: 1.3616 - accuracy: 0.4745 - val_loss: 1.2742 - val_accuracy: 0.4990\n"
          ],
          "name": "stdout"
        }
      ]
    },
    {
      "cell_type": "code",
      "metadata": {
        "colab": {
          "base_uri": "https://localhost:8080/"
        },
        "id": "ji0cZyOVumUZ",
        "outputId": "23fa8624-e546-4f57-c427-33cf8594e73a"
      },
      "source": [
        "history1 = cnn_model.fit(\n",
        "    train_dataset1,\n",
        "    validation_data=valid_dataset1,\n",
        "    epochs=50,\n",
        "    steps_per_epoch=len(train_dataset1),\n",
        "    validation_steps=len(valid_dataset1)\n",
        ")\n"
      ],
      "execution_count": 41,
      "outputs": [
        {
          "output_type": "stream",
          "text": [
            "Epoch 1/50\n",
            "898/898 [==============================] - 56s 63ms/step - loss: 1.2879 - accuracy: 0.5087 - val_loss: 1.2397 - val_accuracy: 0.5271\n",
            "Epoch 2/50\n",
            "898/898 [==============================] - 55s 61ms/step - loss: 1.2449 - accuracy: 0.5269 - val_loss: 1.2660 - val_accuracy: 0.5213\n",
            "Epoch 3/50\n",
            "898/898 [==============================] - 54s 61ms/step - loss: 1.2265 - accuracy: 0.5350 - val_loss: 1.2289 - val_accuracy: 0.5361\n",
            "Epoch 4/50\n",
            "898/898 [==============================] - 55s 61ms/step - loss: 1.1876 - accuracy: 0.5479 - val_loss: 1.0989 - val_accuracy: 0.5865\n",
            "Epoch 5/50\n",
            "898/898 [==============================] - 55s 61ms/step - loss: 1.1791 - accuracy: 0.5524 - val_loss: 1.0815 - val_accuracy: 0.5908\n",
            "Epoch 6/50\n",
            "898/898 [==============================] - 55s 62ms/step - loss: 1.1573 - accuracy: 0.5616 - val_loss: 1.0509 - val_accuracy: 0.5968\n",
            "Epoch 7/50\n",
            "898/898 [==============================] - 55s 61ms/step - loss: 1.1484 - accuracy: 0.5640 - val_loss: 1.0919 - val_accuracy: 0.5842\n",
            "Epoch 8/50\n",
            "898/898 [==============================] - 55s 61ms/step - loss: 1.1315 - accuracy: 0.5732 - val_loss: 1.0519 - val_accuracy: 0.6157\n",
            "Epoch 9/50\n",
            "898/898 [==============================] - 55s 61ms/step - loss: 1.1129 - accuracy: 0.5817 - val_loss: 1.0284 - val_accuracy: 0.6182\n",
            "Epoch 10/50\n",
            "898/898 [==============================] - 55s 61ms/step - loss: 1.1020 - accuracy: 0.5848 - val_loss: 0.9962 - val_accuracy: 0.6196\n",
            "Epoch 11/50\n",
            "898/898 [==============================] - 54s 61ms/step - loss: 1.0976 - accuracy: 0.5825 - val_loss: 1.0102 - val_accuracy: 0.6182\n",
            "Epoch 12/50\n",
            "898/898 [==============================] - 56s 62ms/step - loss: 1.0784 - accuracy: 0.5940 - val_loss: 1.0257 - val_accuracy: 0.6095\n",
            "Epoch 13/50\n",
            "898/898 [==============================] - 55s 61ms/step - loss: 1.0710 - accuracy: 0.5983 - val_loss: 0.9756 - val_accuracy: 0.6283\n",
            "Epoch 14/50\n",
            "898/898 [==============================] - 55s 61ms/step - loss: 1.0660 - accuracy: 0.6002 - val_loss: 0.9859 - val_accuracy: 0.6274\n",
            "Epoch 15/50\n",
            "898/898 [==============================] - 55s 61ms/step - loss: 1.0533 - accuracy: 0.6038 - val_loss: 1.0099 - val_accuracy: 0.6250\n",
            "Epoch 16/50\n",
            "898/898 [==============================] - 59s 65ms/step - loss: 1.0403 - accuracy: 0.6076 - val_loss: 0.9514 - val_accuracy: 0.6427\n",
            "Epoch 17/50\n",
            "898/898 [==============================] - 55s 62ms/step - loss: 1.0393 - accuracy: 0.6087 - val_loss: 0.9887 - val_accuracy: 0.6347\n",
            "Epoch 18/50\n",
            "898/898 [==============================] - 56s 62ms/step - loss: 1.0281 - accuracy: 0.6155 - val_loss: 0.9536 - val_accuracy: 0.6438\n",
            "Epoch 19/50\n",
            "898/898 [==============================] - 55s 61ms/step - loss: 1.0173 - accuracy: 0.6202 - val_loss: 0.9762 - val_accuracy: 0.6335\n",
            "Epoch 20/50\n",
            "898/898 [==============================] - 56s 62ms/step - loss: 1.0215 - accuracy: 0.6136 - val_loss: 0.9071 - val_accuracy: 0.6569\n",
            "Epoch 21/50\n",
            "898/898 [==============================] - 56s 62ms/step - loss: 1.0113 - accuracy: 0.6195 - val_loss: 0.9087 - val_accuracy: 0.6541\n",
            "Epoch 22/50\n",
            "898/898 [==============================] - 54s 61ms/step - loss: 0.9956 - accuracy: 0.6220 - val_loss: 0.9361 - val_accuracy: 0.6591\n",
            "Epoch 23/50\n",
            "898/898 [==============================] - 55s 62ms/step - loss: 0.9974 - accuracy: 0.6234 - val_loss: 0.9495 - val_accuracy: 0.6461\n",
            "Epoch 24/50\n",
            "898/898 [==============================] - 54s 60ms/step - loss: 0.9950 - accuracy: 0.6249 - val_loss: 0.9447 - val_accuracy: 0.6401\n",
            "Epoch 25/50\n",
            "898/898 [==============================] - 55s 61ms/step - loss: 0.9869 - accuracy: 0.6287 - val_loss: 0.9461 - val_accuracy: 0.6440\n",
            "Epoch 26/50\n",
            "898/898 [==============================] - 54s 61ms/step - loss: 0.9819 - accuracy: 0.6316 - val_loss: 0.8839 - val_accuracy: 0.6776\n",
            "Epoch 27/50\n",
            "898/898 [==============================] - 55s 61ms/step - loss: 0.9676 - accuracy: 0.6374 - val_loss: 0.8937 - val_accuracy: 0.6670\n",
            "Epoch 28/50\n",
            "898/898 [==============================] - 55s 61ms/step - loss: 0.9713 - accuracy: 0.6366 - val_loss: 0.8633 - val_accuracy: 0.6783\n",
            "Epoch 29/50\n",
            "898/898 [==============================] - 55s 62ms/step - loss: 0.9634 - accuracy: 0.6405 - val_loss: 0.8554 - val_accuracy: 0.6821\n",
            "Epoch 30/50\n",
            "898/898 [==============================] - 55s 61ms/step - loss: 0.9559 - accuracy: 0.6412 - val_loss: 0.8571 - val_accuracy: 0.6832\n",
            "Epoch 31/50\n",
            "898/898 [==============================] - 55s 61ms/step - loss: 0.9541 - accuracy: 0.6414 - val_loss: 0.8588 - val_accuracy: 0.6776\n",
            "Epoch 32/50\n",
            "898/898 [==============================] - 55s 61ms/step - loss: 0.9456 - accuracy: 0.6432 - val_loss: 0.8423 - val_accuracy: 0.6886\n",
            "Epoch 33/50\n",
            "898/898 [==============================] - 55s 61ms/step - loss: 0.9440 - accuracy: 0.6449 - val_loss: 0.8859 - val_accuracy: 0.6692\n",
            "Epoch 34/50\n",
            "898/898 [==============================] - 55s 62ms/step - loss: 0.9412 - accuracy: 0.6473 - val_loss: 0.8630 - val_accuracy: 0.6750\n",
            "Epoch 35/50\n",
            "898/898 [==============================] - 55s 61ms/step - loss: 0.9368 - accuracy: 0.6478 - val_loss: 0.8409 - val_accuracy: 0.6868\n",
            "Epoch 36/50\n",
            "898/898 [==============================] - 55s 61ms/step - loss: 0.9318 - accuracy: 0.6511 - val_loss: 0.8706 - val_accuracy: 0.6710\n",
            "Epoch 37/50\n",
            "898/898 [==============================] - 55s 61ms/step - loss: 0.9321 - accuracy: 0.6511 - val_loss: 0.8761 - val_accuracy: 0.6776\n",
            "Epoch 38/50\n",
            "898/898 [==============================] - 55s 61ms/step - loss: 0.9227 - accuracy: 0.6558 - val_loss: 0.8131 - val_accuracy: 0.6941\n",
            "Epoch 39/50\n",
            "898/898 [==============================] - 55s 61ms/step - loss: 0.9182 - accuracy: 0.6577 - val_loss: 0.8191 - val_accuracy: 0.6953\n",
            "Epoch 40/50\n",
            "898/898 [==============================] - 56s 62ms/step - loss: 0.9060 - accuracy: 0.6599 - val_loss: 0.8303 - val_accuracy: 0.6889\n",
            "Epoch 41/50\n",
            "898/898 [==============================] - 55s 61ms/step - loss: 0.9037 - accuracy: 0.6611 - val_loss: 0.7941 - val_accuracy: 0.7053\n",
            "Epoch 42/50\n",
            "898/898 [==============================] - 55s 61ms/step - loss: 0.9100 - accuracy: 0.6622 - val_loss: 0.8363 - val_accuracy: 0.6868\n",
            "Epoch 43/50\n",
            "898/898 [==============================] - 55s 61ms/step - loss: 0.8983 - accuracy: 0.6664 - val_loss: 0.8015 - val_accuracy: 0.7020\n",
            "Epoch 44/50\n",
            "898/898 [==============================] - 55s 61ms/step - loss: 0.8974 - accuracy: 0.6631 - val_loss: 0.7951 - val_accuracy: 0.7063\n",
            "Epoch 45/50\n",
            "898/898 [==============================] - 55s 61ms/step - loss: 0.8878 - accuracy: 0.6673 - val_loss: 0.8423 - val_accuracy: 0.6889\n",
            "Epoch 46/50\n",
            "898/898 [==============================] - 55s 62ms/step - loss: 0.8910 - accuracy: 0.6668 - val_loss: 0.8030 - val_accuracy: 0.7041\n",
            "Epoch 47/50\n",
            "898/898 [==============================] - 55s 61ms/step - loss: 0.8835 - accuracy: 0.6708 - val_loss: 0.7878 - val_accuracy: 0.7131\n",
            "Epoch 48/50\n",
            "898/898 [==============================] - 55s 61ms/step - loss: 0.8760 - accuracy: 0.6710 - val_loss: 0.7915 - val_accuracy: 0.7049\n",
            "Epoch 49/50\n",
            "898/898 [==============================] - 54s 60ms/step - loss: 0.8822 - accuracy: 0.6710 - val_loss: 0.8496 - val_accuracy: 0.6872\n",
            "Epoch 50/50\n",
            "898/898 [==============================] - 54s 60ms/step - loss: 0.8746 - accuracy: 0.6719 - val_loss: 0.7763 - val_accuracy: 0.7096\n"
          ],
          "name": "stdout"
        }
      ]
    },
    {
      "cell_type": "code",
      "metadata": {
        "colab": {
          "base_uri": "https://localhost:8080/"
        },
        "id": "rIRgmdRw5bxU",
        "outputId": "038044eb-5795-4c69-f6ee-5c769af1fd69"
      },
      "source": [
        "result = new_model.evaluate(\n",
        "    test_dataset1,\n",
        "    batch_size = batch_size,\n",
        ")"
      ],
      "execution_count": 47,
      "outputs": [
        {
          "output_type": "stream",
          "text": [
            "225/225 [==============================] - 8s 36ms/step - loss: 0.9788 - accuracy: 0.6427\n"
          ],
          "name": "stdout"
        }
      ]
    },
    {
      "cell_type": "code",
      "metadata": {
        "id": "cJyfuB0nT6kW"
      },
      "source": [
        "# !rm -rf emotio_rec"
      ],
      "execution_count": null,
      "outputs": []
    },
    {
      "cell_type": "code",
      "metadata": {
        "id": "OJmdeWuH9OtR"
      },
      "source": [
        "# {'conv_1_filter': 64, 'conv_1_kernel': 3, 'conv_2_filter': 64, 'conv_2_kernel': 3, 'conv_3_filter': 64, 'conv_3_kernel': 3, 'conv_4_filter': 64, 'conv_4_kernel': 5, 'dense_1_units': 128, 'learning_rate': 0.001, 'tuner/epochs': 5, 'tuner/initial_epoch': 0, 'tuner/bracket': 0, 'tuner/round': 0}"
      ],
      "execution_count": null,
      "outputs": []
    },
    {
      "cell_type": "code",
      "metadata": {
        "id": "SZaSCH3VpALE"
      },
      "source": [
        "cnn_model.save('cnn_model.h5')"
      ],
      "execution_count": 45,
      "outputs": []
    },
    {
      "cell_type": "code",
      "metadata": {
        "id": "dL6Q0AySRrAg"
      },
      "source": [
        "new_model = keras.models.load_model('cnn_model.h5')"
      ],
      "execution_count": 46,
      "outputs": []
    },
    {
      "cell_type": "code",
      "metadata": {
        "id": "A3L0O3brQ2J_"
      },
      "source": [
        ""
      ],
      "execution_count": null,
      "outputs": []
    },
    {
      "cell_type": "markdown",
      "metadata": {
        "id": "cxQg19DMIjU6"
      },
      "source": [
        "# VGG tranfer learning"
      ]
    },
    {
      "cell_type": "code",
      "metadata": {
        "id": "3XUCsjW40pR9"
      },
      "source": [
        "train_datagen = ImageDataGenerator(rescale = 1./255,\n",
        "                                  #  validation_split = 0.2,\n",
        "                                   rotation_range=5,\n",
        "                                   width_shift_range=0.2,\n",
        "                                   height_shift_range=0.2,\n",
        "                                   shear_range=0.2,\n",
        "                                   zoom_range=0.2,        #zoom in the range [1-zoom_range,1+zoom_range]\n",
        "                                   horizontal_flip=True,\n",
        "                                   vertical_flip=True,\n",
        "                                   fill_mode='nearest')\n",
        "\n",
        "valid_datagen = ImageDataGenerator(rescale = 1./255,\n",
        "                                  validation_split = 0.2)\n",
        "\n",
        "test_datagen  = ImageDataGenerator(rescale = 1./255)\n"
      ],
      "execution_count": 27,
      "outputs": []
    },
    {
      "cell_type": "code",
      "metadata": {
        "colab": {
          "base_uri": "https://localhost:8080/"
        },
        "id": "sPUhjnbx1RXQ",
        "outputId": "fb25bb4a-69f7-461a-b6a0-a4929a38cf07"
      },
      "source": [
        "train_dataset  = train_datagen.flow_from_directory(directory = 'tt_data/train',\n",
        "                                                   target_size = (224,224),\n",
        "                                                   class_mode = 'categorical',\n",
        "                                                   subset = 'training',\n",
        "                                                   shuffle = True,\n",
        "                                                   batch_size = 64)\n",
        "\n",
        "\n",
        "valid_dataset = valid_datagen.flow_from_directory(directory = 'tt_data/train',\n",
        "                                                  target_size = (224,224),\n",
        "                                                  class_mode = 'categorical',\n",
        "                                                  subset = 'validation',\n",
        "                                                  batch_size = 64, \n",
        "                                                  shuffle = True)\n",
        "\n",
        "\n",
        "test_dataset = test_datagen.flow_from_directory(directory = 'tt_data/test',\n",
        "                                                  target_size = (224,224),\n",
        "                                                  class_mode = 'categorical',\n",
        "                                                  batch_size = 64, \n",
        "                                                  shuffle = True)\n"
      ],
      "execution_count": 28,
      "outputs": [
        {
          "output_type": "stream",
          "text": [
            "Found 28709 images belonging to 7 classes.\n",
            "Found 5741 images belonging to 7 classes.\n",
            "Found 7178 images belonging to 7 classes.\n"
          ],
          "name": "stdout"
        }
      ]
    },
    {
      "cell_type": "code",
      "metadata": {
        "id": "wuvNzbb211nu",
        "colab": {
          "base_uri": "https://localhost:8080/"
        },
        "outputId": "f03c0328-a101-4308-84f3-d5353263a905"
      },
      "source": [
        "r = model.fit_generator(\n",
        "  train_dataset,\n",
        "  validation_data=valid_dataset,\n",
        "  epochs=5,\n",
        "  steps_per_epoch=len(train_dataset),\n",
        "  validation_steps=len(valid_dataset)\n",
        ")\n"
      ],
      "execution_count": 29,
      "outputs": [
        {
          "output_type": "stream",
          "text": [
            "/usr/local/lib/python3.7/dist-packages/tensorflow/python/keras/engine/training.py:1844: UserWarning: `Model.fit_generator` is deprecated and will be removed in a future version. Please use `Model.fit`, which supports generators.\n",
            "  warnings.warn('`Model.fit_generator` is deprecated and '\n"
          ],
          "name": "stderr"
        },
        {
          "output_type": "stream",
          "text": [
            "Epoch 1/5\n",
            "449/449 [==============================] - 416s 836ms/step - loss: 1.8788 - accuracy: 0.2894 - val_loss: 1.5191 - val_accuracy: 0.4137\n",
            "Epoch 2/5\n",
            "449/449 [==============================] - 360s 801ms/step - loss: 1.7027 - accuracy: 0.3566 - val_loss: 1.5366 - val_accuracy: 0.4304\n",
            "Epoch 3/5\n",
            "449/449 [==============================] - 363s 808ms/step - loss: 1.6580 - accuracy: 0.3788 - val_loss: 1.6229 - val_accuracy: 0.4376\n",
            "Epoch 4/5\n",
            "449/449 [==============================] - 363s 808ms/step - loss: 1.6569 - accuracy: 0.3820 - val_loss: 1.5949 - val_accuracy: 0.4161\n",
            "Epoch 5/5\n",
            "449/449 [==============================] - 363s 808ms/step - loss: 1.6143 - accuracy: 0.3914 - val_loss: 1.6339 - val_accuracy: 0.4198\n"
          ],
          "name": "stdout"
        }
      ]
    },
    {
      "cell_type": "code",
      "metadata": {
        "id": "7QCOWWViydUb"
      },
      "source": [
        ""
      ],
      "execution_count": null,
      "outputs": []
    },
    {
      "cell_type": "markdown",
      "metadata": {
        "id": "auM6r_3gyd1c"
      },
      "source": [
        "# **ResNet50**"
      ]
    },
    {
      "cell_type": "code",
      "metadata": {
        "id": "3f1XWEjlybIH"
      },
      "source": [
        "from tensorflow.keras.applications.resnet50 import ResNet50"
      ],
      "execution_count": 48,
      "outputs": []
    },
    {
      "cell_type": "code",
      "metadata": {
        "colab": {
          "base_uri": "https://localhost:8080/"
        },
        "id": "cGmLNC4_ycfm",
        "outputId": "b3adfb4f-0bd1-4443-f84e-8dff27c96f42"
      },
      "source": [
        "# re-size all the images to this\n",
        "IMAGE_SIZE = [224, 224]\n",
        "\n",
        "train_path = 'tt_data/train'\n",
        "valid_path = 'tt_data/test'\n",
        "\n",
        "# add preprocessing layer to the front of VGG\n",
        "rn = ResNet50(input_shape=IMAGE_SIZE + [3], weights='imagenet', include_top=False)\n",
        "\n",
        "\n",
        "# don't train existing weights\n",
        "for layer in rn.layers:\n",
        "  layer.trainable = False\n",
        "  \n",
        "\n",
        "  \n",
        "  # useful for getting number of classes\n",
        "folders = glob('tt_data/train/*')\n",
        "  \n",
        "\n",
        "# our layers - you can add more if you want\n",
        "x = Flatten()(rn.output)\n",
        "\n",
        "prediction = Dense(len(folders), activation='softmax')(x)\n",
        "\n",
        "# create a model object\n",
        "modelr = Model(inputs=rn.input, outputs=prediction)\n",
        "\n",
        "# view the structure of the model\n",
        "modelr.summary()\n"
      ],
      "execution_count": 49,
      "outputs": [
        {
          "output_type": "stream",
          "text": [
            "Downloading data from https://storage.googleapis.com/tensorflow/keras-applications/resnet/resnet50_weights_tf_dim_ordering_tf_kernels_notop.h5\n",
            "94773248/94765736 [==============================] - 1s 0us/step\n",
            "Model: \"model_1\"\n",
            "__________________________________________________________________________________________________\n",
            "Layer (type)                    Output Shape         Param #     Connected to                     \n",
            "==================================================================================================\n",
            "input_2 (InputLayer)            [(None, 224, 224, 3) 0                                            \n",
            "__________________________________________________________________________________________________\n",
            "conv1_pad (ZeroPadding2D)       (None, 230, 230, 3)  0           input_2[0][0]                    \n",
            "__________________________________________________________________________________________________\n",
            "conv1_conv (Conv2D)             (None, 112, 112, 64) 9472        conv1_pad[0][0]                  \n",
            "__________________________________________________________________________________________________\n",
            "conv1_bn (BatchNormalization)   (None, 112, 112, 64) 256         conv1_conv[0][0]                 \n",
            "__________________________________________________________________________________________________\n",
            "conv1_relu (Activation)         (None, 112, 112, 64) 0           conv1_bn[0][0]                   \n",
            "__________________________________________________________________________________________________\n",
            "pool1_pad (ZeroPadding2D)       (None, 114, 114, 64) 0           conv1_relu[0][0]                 \n",
            "__________________________________________________________________________________________________\n",
            "pool1_pool (MaxPooling2D)       (None, 56, 56, 64)   0           pool1_pad[0][0]                  \n",
            "__________________________________________________________________________________________________\n",
            "conv2_block1_1_conv (Conv2D)    (None, 56, 56, 64)   4160        pool1_pool[0][0]                 \n",
            "__________________________________________________________________________________________________\n",
            "conv2_block1_1_bn (BatchNormali (None, 56, 56, 64)   256         conv2_block1_1_conv[0][0]        \n",
            "__________________________________________________________________________________________________\n",
            "conv2_block1_1_relu (Activation (None, 56, 56, 64)   0           conv2_block1_1_bn[0][0]          \n",
            "__________________________________________________________________________________________________\n",
            "conv2_block1_2_conv (Conv2D)    (None, 56, 56, 64)   36928       conv2_block1_1_relu[0][0]        \n",
            "__________________________________________________________________________________________________\n",
            "conv2_block1_2_bn (BatchNormali (None, 56, 56, 64)   256         conv2_block1_2_conv[0][0]        \n",
            "__________________________________________________________________________________________________\n",
            "conv2_block1_2_relu (Activation (None, 56, 56, 64)   0           conv2_block1_2_bn[0][0]          \n",
            "__________________________________________________________________________________________________\n",
            "conv2_block1_0_conv (Conv2D)    (None, 56, 56, 256)  16640       pool1_pool[0][0]                 \n",
            "__________________________________________________________________________________________________\n",
            "conv2_block1_3_conv (Conv2D)    (None, 56, 56, 256)  16640       conv2_block1_2_relu[0][0]        \n",
            "__________________________________________________________________________________________________\n",
            "conv2_block1_0_bn (BatchNormali (None, 56, 56, 256)  1024        conv2_block1_0_conv[0][0]        \n",
            "__________________________________________________________________________________________________\n",
            "conv2_block1_3_bn (BatchNormali (None, 56, 56, 256)  1024        conv2_block1_3_conv[0][0]        \n",
            "__________________________________________________________________________________________________\n",
            "conv2_block1_add (Add)          (None, 56, 56, 256)  0           conv2_block1_0_bn[0][0]          \n",
            "                                                                 conv2_block1_3_bn[0][0]          \n",
            "__________________________________________________________________________________________________\n",
            "conv2_block1_out (Activation)   (None, 56, 56, 256)  0           conv2_block1_add[0][0]           \n",
            "__________________________________________________________________________________________________\n",
            "conv2_block2_1_conv (Conv2D)    (None, 56, 56, 64)   16448       conv2_block1_out[0][0]           \n",
            "__________________________________________________________________________________________________\n",
            "conv2_block2_1_bn (BatchNormali (None, 56, 56, 64)   256         conv2_block2_1_conv[0][0]        \n",
            "__________________________________________________________________________________________________\n",
            "conv2_block2_1_relu (Activation (None, 56, 56, 64)   0           conv2_block2_1_bn[0][0]          \n",
            "__________________________________________________________________________________________________\n",
            "conv2_block2_2_conv (Conv2D)    (None, 56, 56, 64)   36928       conv2_block2_1_relu[0][0]        \n",
            "__________________________________________________________________________________________________\n",
            "conv2_block2_2_bn (BatchNormali (None, 56, 56, 64)   256         conv2_block2_2_conv[0][0]        \n",
            "__________________________________________________________________________________________________\n",
            "conv2_block2_2_relu (Activation (None, 56, 56, 64)   0           conv2_block2_2_bn[0][0]          \n",
            "__________________________________________________________________________________________________\n",
            "conv2_block2_3_conv (Conv2D)    (None, 56, 56, 256)  16640       conv2_block2_2_relu[0][0]        \n",
            "__________________________________________________________________________________________________\n",
            "conv2_block2_3_bn (BatchNormali (None, 56, 56, 256)  1024        conv2_block2_3_conv[0][0]        \n",
            "__________________________________________________________________________________________________\n",
            "conv2_block2_add (Add)          (None, 56, 56, 256)  0           conv2_block1_out[0][0]           \n",
            "                                                                 conv2_block2_3_bn[0][0]          \n",
            "__________________________________________________________________________________________________\n",
            "conv2_block2_out (Activation)   (None, 56, 56, 256)  0           conv2_block2_add[0][0]           \n",
            "__________________________________________________________________________________________________\n",
            "conv2_block3_1_conv (Conv2D)    (None, 56, 56, 64)   16448       conv2_block2_out[0][0]           \n",
            "__________________________________________________________________________________________________\n",
            "conv2_block3_1_bn (BatchNormali (None, 56, 56, 64)   256         conv2_block3_1_conv[0][0]        \n",
            "__________________________________________________________________________________________________\n",
            "conv2_block3_1_relu (Activation (None, 56, 56, 64)   0           conv2_block3_1_bn[0][0]          \n",
            "__________________________________________________________________________________________________\n",
            "conv2_block3_2_conv (Conv2D)    (None, 56, 56, 64)   36928       conv2_block3_1_relu[0][0]        \n",
            "__________________________________________________________________________________________________\n",
            "conv2_block3_2_bn (BatchNormali (None, 56, 56, 64)   256         conv2_block3_2_conv[0][0]        \n",
            "__________________________________________________________________________________________________\n",
            "conv2_block3_2_relu (Activation (None, 56, 56, 64)   0           conv2_block3_2_bn[0][0]          \n",
            "__________________________________________________________________________________________________\n",
            "conv2_block3_3_conv (Conv2D)    (None, 56, 56, 256)  16640       conv2_block3_2_relu[0][0]        \n",
            "__________________________________________________________________________________________________\n",
            "conv2_block3_3_bn (BatchNormali (None, 56, 56, 256)  1024        conv2_block3_3_conv[0][0]        \n",
            "__________________________________________________________________________________________________\n",
            "conv2_block3_add (Add)          (None, 56, 56, 256)  0           conv2_block2_out[0][0]           \n",
            "                                                                 conv2_block3_3_bn[0][0]          \n",
            "__________________________________________________________________________________________________\n",
            "conv2_block3_out (Activation)   (None, 56, 56, 256)  0           conv2_block3_add[0][0]           \n",
            "__________________________________________________________________________________________________\n",
            "conv3_block1_1_conv (Conv2D)    (None, 28, 28, 128)  32896       conv2_block3_out[0][0]           \n",
            "__________________________________________________________________________________________________\n",
            "conv3_block1_1_bn (BatchNormali (None, 28, 28, 128)  512         conv3_block1_1_conv[0][0]        \n",
            "__________________________________________________________________________________________________\n",
            "conv3_block1_1_relu (Activation (None, 28, 28, 128)  0           conv3_block1_1_bn[0][0]          \n",
            "__________________________________________________________________________________________________\n",
            "conv3_block1_2_conv (Conv2D)    (None, 28, 28, 128)  147584      conv3_block1_1_relu[0][0]        \n",
            "__________________________________________________________________________________________________\n",
            "conv3_block1_2_bn (BatchNormali (None, 28, 28, 128)  512         conv3_block1_2_conv[0][0]        \n",
            "__________________________________________________________________________________________________\n",
            "conv3_block1_2_relu (Activation (None, 28, 28, 128)  0           conv3_block1_2_bn[0][0]          \n",
            "__________________________________________________________________________________________________\n",
            "conv3_block1_0_conv (Conv2D)    (None, 28, 28, 512)  131584      conv2_block3_out[0][0]           \n",
            "__________________________________________________________________________________________________\n",
            "conv3_block1_3_conv (Conv2D)    (None, 28, 28, 512)  66048       conv3_block1_2_relu[0][0]        \n",
            "__________________________________________________________________________________________________\n",
            "conv3_block1_0_bn (BatchNormali (None, 28, 28, 512)  2048        conv3_block1_0_conv[0][0]        \n",
            "__________________________________________________________________________________________________\n",
            "conv3_block1_3_bn (BatchNormali (None, 28, 28, 512)  2048        conv3_block1_3_conv[0][0]        \n",
            "__________________________________________________________________________________________________\n",
            "conv3_block1_add (Add)          (None, 28, 28, 512)  0           conv3_block1_0_bn[0][0]          \n",
            "                                                                 conv3_block1_3_bn[0][0]          \n",
            "__________________________________________________________________________________________________\n",
            "conv3_block1_out (Activation)   (None, 28, 28, 512)  0           conv3_block1_add[0][0]           \n",
            "__________________________________________________________________________________________________\n",
            "conv3_block2_1_conv (Conv2D)    (None, 28, 28, 128)  65664       conv3_block1_out[0][0]           \n",
            "__________________________________________________________________________________________________\n",
            "conv3_block2_1_bn (BatchNormali (None, 28, 28, 128)  512         conv3_block2_1_conv[0][0]        \n",
            "__________________________________________________________________________________________________\n",
            "conv3_block2_1_relu (Activation (None, 28, 28, 128)  0           conv3_block2_1_bn[0][0]          \n",
            "__________________________________________________________________________________________________\n",
            "conv3_block2_2_conv (Conv2D)    (None, 28, 28, 128)  147584      conv3_block2_1_relu[0][0]        \n",
            "__________________________________________________________________________________________________\n",
            "conv3_block2_2_bn (BatchNormali (None, 28, 28, 128)  512         conv3_block2_2_conv[0][0]        \n",
            "__________________________________________________________________________________________________\n",
            "conv3_block2_2_relu (Activation (None, 28, 28, 128)  0           conv3_block2_2_bn[0][0]          \n",
            "__________________________________________________________________________________________________\n",
            "conv3_block2_3_conv (Conv2D)    (None, 28, 28, 512)  66048       conv3_block2_2_relu[0][0]        \n",
            "__________________________________________________________________________________________________\n",
            "conv3_block2_3_bn (BatchNormali (None, 28, 28, 512)  2048        conv3_block2_3_conv[0][0]        \n",
            "__________________________________________________________________________________________________\n",
            "conv3_block2_add (Add)          (None, 28, 28, 512)  0           conv3_block1_out[0][0]           \n",
            "                                                                 conv3_block2_3_bn[0][0]          \n",
            "__________________________________________________________________________________________________\n",
            "conv3_block2_out (Activation)   (None, 28, 28, 512)  0           conv3_block2_add[0][0]           \n",
            "__________________________________________________________________________________________________\n",
            "conv3_block3_1_conv (Conv2D)    (None, 28, 28, 128)  65664       conv3_block2_out[0][0]           \n",
            "__________________________________________________________________________________________________\n",
            "conv3_block3_1_bn (BatchNormali (None, 28, 28, 128)  512         conv3_block3_1_conv[0][0]        \n",
            "__________________________________________________________________________________________________\n",
            "conv3_block3_1_relu (Activation (None, 28, 28, 128)  0           conv3_block3_1_bn[0][0]          \n",
            "__________________________________________________________________________________________________\n",
            "conv3_block3_2_conv (Conv2D)    (None, 28, 28, 128)  147584      conv3_block3_1_relu[0][0]        \n",
            "__________________________________________________________________________________________________\n",
            "conv3_block3_2_bn (BatchNormali (None, 28, 28, 128)  512         conv3_block3_2_conv[0][0]        \n",
            "__________________________________________________________________________________________________\n",
            "conv3_block3_2_relu (Activation (None, 28, 28, 128)  0           conv3_block3_2_bn[0][0]          \n",
            "__________________________________________________________________________________________________\n",
            "conv3_block3_3_conv (Conv2D)    (None, 28, 28, 512)  66048       conv3_block3_2_relu[0][0]        \n",
            "__________________________________________________________________________________________________\n",
            "conv3_block3_3_bn (BatchNormali (None, 28, 28, 512)  2048        conv3_block3_3_conv[0][0]        \n",
            "__________________________________________________________________________________________________\n",
            "conv3_block3_add (Add)          (None, 28, 28, 512)  0           conv3_block2_out[0][0]           \n",
            "                                                                 conv3_block3_3_bn[0][0]          \n",
            "__________________________________________________________________________________________________\n",
            "conv3_block3_out (Activation)   (None, 28, 28, 512)  0           conv3_block3_add[0][0]           \n",
            "__________________________________________________________________________________________________\n",
            "conv3_block4_1_conv (Conv2D)    (None, 28, 28, 128)  65664       conv3_block3_out[0][0]           \n",
            "__________________________________________________________________________________________________\n",
            "conv3_block4_1_bn (BatchNormali (None, 28, 28, 128)  512         conv3_block4_1_conv[0][0]        \n",
            "__________________________________________________________________________________________________\n",
            "conv3_block4_1_relu (Activation (None, 28, 28, 128)  0           conv3_block4_1_bn[0][0]          \n",
            "__________________________________________________________________________________________________\n",
            "conv3_block4_2_conv (Conv2D)    (None, 28, 28, 128)  147584      conv3_block4_1_relu[0][0]        \n",
            "__________________________________________________________________________________________________\n",
            "conv3_block4_2_bn (BatchNormali (None, 28, 28, 128)  512         conv3_block4_2_conv[0][0]        \n",
            "__________________________________________________________________________________________________\n",
            "conv3_block4_2_relu (Activation (None, 28, 28, 128)  0           conv3_block4_2_bn[0][0]          \n",
            "__________________________________________________________________________________________________\n",
            "conv3_block4_3_conv (Conv2D)    (None, 28, 28, 512)  66048       conv3_block4_2_relu[0][0]        \n",
            "__________________________________________________________________________________________________\n",
            "conv3_block4_3_bn (BatchNormali (None, 28, 28, 512)  2048        conv3_block4_3_conv[0][0]        \n",
            "__________________________________________________________________________________________________\n",
            "conv3_block4_add (Add)          (None, 28, 28, 512)  0           conv3_block3_out[0][0]           \n",
            "                                                                 conv3_block4_3_bn[0][0]          \n",
            "__________________________________________________________________________________________________\n",
            "conv3_block4_out (Activation)   (None, 28, 28, 512)  0           conv3_block4_add[0][0]           \n",
            "__________________________________________________________________________________________________\n",
            "conv4_block1_1_conv (Conv2D)    (None, 14, 14, 256)  131328      conv3_block4_out[0][0]           \n",
            "__________________________________________________________________________________________________\n",
            "conv4_block1_1_bn (BatchNormali (None, 14, 14, 256)  1024        conv4_block1_1_conv[0][0]        \n",
            "__________________________________________________________________________________________________\n",
            "conv4_block1_1_relu (Activation (None, 14, 14, 256)  0           conv4_block1_1_bn[0][0]          \n",
            "__________________________________________________________________________________________________\n",
            "conv4_block1_2_conv (Conv2D)    (None, 14, 14, 256)  590080      conv4_block1_1_relu[0][0]        \n",
            "__________________________________________________________________________________________________\n",
            "conv4_block1_2_bn (BatchNormali (None, 14, 14, 256)  1024        conv4_block1_2_conv[0][0]        \n",
            "__________________________________________________________________________________________________\n",
            "conv4_block1_2_relu (Activation (None, 14, 14, 256)  0           conv4_block1_2_bn[0][0]          \n",
            "__________________________________________________________________________________________________\n",
            "conv4_block1_0_conv (Conv2D)    (None, 14, 14, 1024) 525312      conv3_block4_out[0][0]           \n",
            "__________________________________________________________________________________________________\n",
            "conv4_block1_3_conv (Conv2D)    (None, 14, 14, 1024) 263168      conv4_block1_2_relu[0][0]        \n",
            "__________________________________________________________________________________________________\n",
            "conv4_block1_0_bn (BatchNormali (None, 14, 14, 1024) 4096        conv4_block1_0_conv[0][0]        \n",
            "__________________________________________________________________________________________________\n",
            "conv4_block1_3_bn (BatchNormali (None, 14, 14, 1024) 4096        conv4_block1_3_conv[0][0]        \n",
            "__________________________________________________________________________________________________\n",
            "conv4_block1_add (Add)          (None, 14, 14, 1024) 0           conv4_block1_0_bn[0][0]          \n",
            "                                                                 conv4_block1_3_bn[0][0]          \n",
            "__________________________________________________________________________________________________\n",
            "conv4_block1_out (Activation)   (None, 14, 14, 1024) 0           conv4_block1_add[0][0]           \n",
            "__________________________________________________________________________________________________\n",
            "conv4_block2_1_conv (Conv2D)    (None, 14, 14, 256)  262400      conv4_block1_out[0][0]           \n",
            "__________________________________________________________________________________________________\n",
            "conv4_block2_1_bn (BatchNormali (None, 14, 14, 256)  1024        conv4_block2_1_conv[0][0]        \n",
            "__________________________________________________________________________________________________\n",
            "conv4_block2_1_relu (Activation (None, 14, 14, 256)  0           conv4_block2_1_bn[0][0]          \n",
            "__________________________________________________________________________________________________\n",
            "conv4_block2_2_conv (Conv2D)    (None, 14, 14, 256)  590080      conv4_block2_1_relu[0][0]        \n",
            "__________________________________________________________________________________________________\n",
            "conv4_block2_2_bn (BatchNormali (None, 14, 14, 256)  1024        conv4_block2_2_conv[0][0]        \n",
            "__________________________________________________________________________________________________\n",
            "conv4_block2_2_relu (Activation (None, 14, 14, 256)  0           conv4_block2_2_bn[0][0]          \n",
            "__________________________________________________________________________________________________\n",
            "conv4_block2_3_conv (Conv2D)    (None, 14, 14, 1024) 263168      conv4_block2_2_relu[0][0]        \n",
            "__________________________________________________________________________________________________\n",
            "conv4_block2_3_bn (BatchNormali (None, 14, 14, 1024) 4096        conv4_block2_3_conv[0][0]        \n",
            "__________________________________________________________________________________________________\n",
            "conv4_block2_add (Add)          (None, 14, 14, 1024) 0           conv4_block1_out[0][0]           \n",
            "                                                                 conv4_block2_3_bn[0][0]          \n",
            "__________________________________________________________________________________________________\n",
            "conv4_block2_out (Activation)   (None, 14, 14, 1024) 0           conv4_block2_add[0][0]           \n",
            "__________________________________________________________________________________________________\n",
            "conv4_block3_1_conv (Conv2D)    (None, 14, 14, 256)  262400      conv4_block2_out[0][0]           \n",
            "__________________________________________________________________________________________________\n",
            "conv4_block3_1_bn (BatchNormali (None, 14, 14, 256)  1024        conv4_block3_1_conv[0][0]        \n",
            "__________________________________________________________________________________________________\n",
            "conv4_block3_1_relu (Activation (None, 14, 14, 256)  0           conv4_block3_1_bn[0][0]          \n",
            "__________________________________________________________________________________________________\n",
            "conv4_block3_2_conv (Conv2D)    (None, 14, 14, 256)  590080      conv4_block3_1_relu[0][0]        \n",
            "__________________________________________________________________________________________________\n",
            "conv4_block3_2_bn (BatchNormali (None, 14, 14, 256)  1024        conv4_block3_2_conv[0][0]        \n",
            "__________________________________________________________________________________________________\n",
            "conv4_block3_2_relu (Activation (None, 14, 14, 256)  0           conv4_block3_2_bn[0][0]          \n",
            "__________________________________________________________________________________________________\n",
            "conv4_block3_3_conv (Conv2D)    (None, 14, 14, 1024) 263168      conv4_block3_2_relu[0][0]        \n",
            "__________________________________________________________________________________________________\n",
            "conv4_block3_3_bn (BatchNormali (None, 14, 14, 1024) 4096        conv4_block3_3_conv[0][0]        \n",
            "__________________________________________________________________________________________________\n",
            "conv4_block3_add (Add)          (None, 14, 14, 1024) 0           conv4_block2_out[0][0]           \n",
            "                                                                 conv4_block3_3_bn[0][0]          \n",
            "__________________________________________________________________________________________________\n",
            "conv4_block3_out (Activation)   (None, 14, 14, 1024) 0           conv4_block3_add[0][0]           \n",
            "__________________________________________________________________________________________________\n",
            "conv4_block4_1_conv (Conv2D)    (None, 14, 14, 256)  262400      conv4_block3_out[0][0]           \n",
            "__________________________________________________________________________________________________\n",
            "conv4_block4_1_bn (BatchNormali (None, 14, 14, 256)  1024        conv4_block4_1_conv[0][0]        \n",
            "__________________________________________________________________________________________________\n",
            "conv4_block4_1_relu (Activation (None, 14, 14, 256)  0           conv4_block4_1_bn[0][0]          \n",
            "__________________________________________________________________________________________________\n",
            "conv4_block4_2_conv (Conv2D)    (None, 14, 14, 256)  590080      conv4_block4_1_relu[0][0]        \n",
            "__________________________________________________________________________________________________\n",
            "conv4_block4_2_bn (BatchNormali (None, 14, 14, 256)  1024        conv4_block4_2_conv[0][0]        \n",
            "__________________________________________________________________________________________________\n",
            "conv4_block4_2_relu (Activation (None, 14, 14, 256)  0           conv4_block4_2_bn[0][0]          \n",
            "__________________________________________________________________________________________________\n",
            "conv4_block4_3_conv (Conv2D)    (None, 14, 14, 1024) 263168      conv4_block4_2_relu[0][0]        \n",
            "__________________________________________________________________________________________________\n",
            "conv4_block4_3_bn (BatchNormali (None, 14, 14, 1024) 4096        conv4_block4_3_conv[0][0]        \n",
            "__________________________________________________________________________________________________\n",
            "conv4_block4_add (Add)          (None, 14, 14, 1024) 0           conv4_block3_out[0][0]           \n",
            "                                                                 conv4_block4_3_bn[0][0]          \n",
            "__________________________________________________________________________________________________\n",
            "conv4_block4_out (Activation)   (None, 14, 14, 1024) 0           conv4_block4_add[0][0]           \n",
            "__________________________________________________________________________________________________\n",
            "conv4_block5_1_conv (Conv2D)    (None, 14, 14, 256)  262400      conv4_block4_out[0][0]           \n",
            "__________________________________________________________________________________________________\n",
            "conv4_block5_1_bn (BatchNormali (None, 14, 14, 256)  1024        conv4_block5_1_conv[0][0]        \n",
            "__________________________________________________________________________________________________\n",
            "conv4_block5_1_relu (Activation (None, 14, 14, 256)  0           conv4_block5_1_bn[0][0]          \n",
            "__________________________________________________________________________________________________\n",
            "conv4_block5_2_conv (Conv2D)    (None, 14, 14, 256)  590080      conv4_block5_1_relu[0][0]        \n",
            "__________________________________________________________________________________________________\n",
            "conv4_block5_2_bn (BatchNormali (None, 14, 14, 256)  1024        conv4_block5_2_conv[0][0]        \n",
            "__________________________________________________________________________________________________\n",
            "conv4_block5_2_relu (Activation (None, 14, 14, 256)  0           conv4_block5_2_bn[0][0]          \n",
            "__________________________________________________________________________________________________\n",
            "conv4_block5_3_conv (Conv2D)    (None, 14, 14, 1024) 263168      conv4_block5_2_relu[0][0]        \n",
            "__________________________________________________________________________________________________\n",
            "conv4_block5_3_bn (BatchNormali (None, 14, 14, 1024) 4096        conv4_block5_3_conv[0][0]        \n",
            "__________________________________________________________________________________________________\n",
            "conv4_block5_add (Add)          (None, 14, 14, 1024) 0           conv4_block4_out[0][0]           \n",
            "                                                                 conv4_block5_3_bn[0][0]          \n",
            "__________________________________________________________________________________________________\n",
            "conv4_block5_out (Activation)   (None, 14, 14, 1024) 0           conv4_block5_add[0][0]           \n",
            "__________________________________________________________________________________________________\n",
            "conv4_block6_1_conv (Conv2D)    (None, 14, 14, 256)  262400      conv4_block5_out[0][0]           \n",
            "__________________________________________________________________________________________________\n",
            "conv4_block6_1_bn (BatchNormali (None, 14, 14, 256)  1024        conv4_block6_1_conv[0][0]        \n",
            "__________________________________________________________________________________________________\n",
            "conv4_block6_1_relu (Activation (None, 14, 14, 256)  0           conv4_block6_1_bn[0][0]          \n",
            "__________________________________________________________________________________________________\n",
            "conv4_block6_2_conv (Conv2D)    (None, 14, 14, 256)  590080      conv4_block6_1_relu[0][0]        \n",
            "__________________________________________________________________________________________________\n",
            "conv4_block6_2_bn (BatchNormali (None, 14, 14, 256)  1024        conv4_block6_2_conv[0][0]        \n",
            "__________________________________________________________________________________________________\n",
            "conv4_block6_2_relu (Activation (None, 14, 14, 256)  0           conv4_block6_2_bn[0][0]          \n",
            "__________________________________________________________________________________________________\n",
            "conv4_block6_3_conv (Conv2D)    (None, 14, 14, 1024) 263168      conv4_block6_2_relu[0][0]        \n",
            "__________________________________________________________________________________________________\n",
            "conv4_block6_3_bn (BatchNormali (None, 14, 14, 1024) 4096        conv4_block6_3_conv[0][0]        \n",
            "__________________________________________________________________________________________________\n",
            "conv4_block6_add (Add)          (None, 14, 14, 1024) 0           conv4_block5_out[0][0]           \n",
            "                                                                 conv4_block6_3_bn[0][0]          \n",
            "__________________________________________________________________________________________________\n",
            "conv4_block6_out (Activation)   (None, 14, 14, 1024) 0           conv4_block6_add[0][0]           \n",
            "__________________________________________________________________________________________________\n",
            "conv5_block1_1_conv (Conv2D)    (None, 7, 7, 512)    524800      conv4_block6_out[0][0]           \n",
            "__________________________________________________________________________________________________\n",
            "conv5_block1_1_bn (BatchNormali (None, 7, 7, 512)    2048        conv5_block1_1_conv[0][0]        \n",
            "__________________________________________________________________________________________________\n",
            "conv5_block1_1_relu (Activation (None, 7, 7, 512)    0           conv5_block1_1_bn[0][0]          \n",
            "__________________________________________________________________________________________________\n",
            "conv5_block1_2_conv (Conv2D)    (None, 7, 7, 512)    2359808     conv5_block1_1_relu[0][0]        \n",
            "__________________________________________________________________________________________________\n",
            "conv5_block1_2_bn (BatchNormali (None, 7, 7, 512)    2048        conv5_block1_2_conv[0][0]        \n",
            "__________________________________________________________________________________________________\n",
            "conv5_block1_2_relu (Activation (None, 7, 7, 512)    0           conv5_block1_2_bn[0][0]          \n",
            "__________________________________________________________________________________________________\n",
            "conv5_block1_0_conv (Conv2D)    (None, 7, 7, 2048)   2099200     conv4_block6_out[0][0]           \n",
            "__________________________________________________________________________________________________\n",
            "conv5_block1_3_conv (Conv2D)    (None, 7, 7, 2048)   1050624     conv5_block1_2_relu[0][0]        \n",
            "__________________________________________________________________________________________________\n",
            "conv5_block1_0_bn (BatchNormali (None, 7, 7, 2048)   8192        conv5_block1_0_conv[0][0]        \n",
            "__________________________________________________________________________________________________\n",
            "conv5_block1_3_bn (BatchNormali (None, 7, 7, 2048)   8192        conv5_block1_3_conv[0][0]        \n",
            "__________________________________________________________________________________________________\n",
            "conv5_block1_add (Add)          (None, 7, 7, 2048)   0           conv5_block1_0_bn[0][0]          \n",
            "                                                                 conv5_block1_3_bn[0][0]          \n",
            "__________________________________________________________________________________________________\n",
            "conv5_block1_out (Activation)   (None, 7, 7, 2048)   0           conv5_block1_add[0][0]           \n",
            "__________________________________________________________________________________________________\n",
            "conv5_block2_1_conv (Conv2D)    (None, 7, 7, 512)    1049088     conv5_block1_out[0][0]           \n",
            "__________________________________________________________________________________________________\n",
            "conv5_block2_1_bn (BatchNormali (None, 7, 7, 512)    2048        conv5_block2_1_conv[0][0]        \n",
            "__________________________________________________________________________________________________\n",
            "conv5_block2_1_relu (Activation (None, 7, 7, 512)    0           conv5_block2_1_bn[0][0]          \n",
            "__________________________________________________________________________________________________\n",
            "conv5_block2_2_conv (Conv2D)    (None, 7, 7, 512)    2359808     conv5_block2_1_relu[0][0]        \n",
            "__________________________________________________________________________________________________\n",
            "conv5_block2_2_bn (BatchNormali (None, 7, 7, 512)    2048        conv5_block2_2_conv[0][0]        \n",
            "__________________________________________________________________________________________________\n",
            "conv5_block2_2_relu (Activation (None, 7, 7, 512)    0           conv5_block2_2_bn[0][0]          \n",
            "__________________________________________________________________________________________________\n",
            "conv5_block2_3_conv (Conv2D)    (None, 7, 7, 2048)   1050624     conv5_block2_2_relu[0][0]        \n",
            "__________________________________________________________________________________________________\n",
            "conv5_block2_3_bn (BatchNormali (None, 7, 7, 2048)   8192        conv5_block2_3_conv[0][0]        \n",
            "__________________________________________________________________________________________________\n",
            "conv5_block2_add (Add)          (None, 7, 7, 2048)   0           conv5_block1_out[0][0]           \n",
            "                                                                 conv5_block2_3_bn[0][0]          \n",
            "__________________________________________________________________________________________________\n",
            "conv5_block2_out (Activation)   (None, 7, 7, 2048)   0           conv5_block2_add[0][0]           \n",
            "__________________________________________________________________________________________________\n",
            "conv5_block3_1_conv (Conv2D)    (None, 7, 7, 512)    1049088     conv5_block2_out[0][0]           \n",
            "__________________________________________________________________________________________________\n",
            "conv5_block3_1_bn (BatchNormali (None, 7, 7, 512)    2048        conv5_block3_1_conv[0][0]        \n",
            "__________________________________________________________________________________________________\n",
            "conv5_block3_1_relu (Activation (None, 7, 7, 512)    0           conv5_block3_1_bn[0][0]          \n",
            "__________________________________________________________________________________________________\n",
            "conv5_block3_2_conv (Conv2D)    (None, 7, 7, 512)    2359808     conv5_block3_1_relu[0][0]        \n",
            "__________________________________________________________________________________________________\n",
            "conv5_block3_2_bn (BatchNormali (None, 7, 7, 512)    2048        conv5_block3_2_conv[0][0]        \n",
            "__________________________________________________________________________________________________\n",
            "conv5_block3_2_relu (Activation (None, 7, 7, 512)    0           conv5_block3_2_bn[0][0]          \n",
            "__________________________________________________________________________________________________\n",
            "conv5_block3_3_conv (Conv2D)    (None, 7, 7, 2048)   1050624     conv5_block3_2_relu[0][0]        \n",
            "__________________________________________________________________________________________________\n",
            "conv5_block3_3_bn (BatchNormali (None, 7, 7, 2048)   8192        conv5_block3_3_conv[0][0]        \n",
            "__________________________________________________________________________________________________\n",
            "conv5_block3_add (Add)          (None, 7, 7, 2048)   0           conv5_block2_out[0][0]           \n",
            "                                                                 conv5_block3_3_bn[0][0]          \n",
            "__________________________________________________________________________________________________\n",
            "conv5_block3_out (Activation)   (None, 7, 7, 2048)   0           conv5_block3_add[0][0]           \n",
            "__________________________________________________________________________________________________\n",
            "flatten_2 (Flatten)             (None, 100352)       0           conv5_block3_out[0][0]           \n",
            "__________________________________________________________________________________________________\n",
            "dense_4 (Dense)                 (None, 7)            702471      flatten_2[0][0]                  \n",
            "==================================================================================================\n",
            "Total params: 24,290,183\n",
            "Trainable params: 702,471\n",
            "Non-trainable params: 23,587,712\n",
            "__________________________________________________________________________________________________\n"
          ],
          "name": "stdout"
        }
      ]
    },
    {
      "cell_type": "code",
      "metadata": {
        "id": "p_xHd15vy4Tq"
      },
      "source": [
        "modelr.compile(loss='categorical_crossentropy', \n",
        "                  optimizer='adam', \n",
        "                  metrics=['accuracy'])"
      ],
      "execution_count": 50,
      "outputs": []
    },
    {
      "cell_type": "code",
      "metadata": {
        "id": "TIRl6CGyALSL"
      },
      "source": [
        "from keras.optimizers import RMSprop,SGD,Adam\n",
        "from keras.callbacks import ModelCheckpoint, EarlyStopping, ReduceLROnPlateau\n",
        "\n",
        "checkpoint = ModelCheckpoint('cnn_model.h5',\n",
        "                             monitor='val_loss',\n",
        "                             mode='min',\n",
        "                             save_best_only=True,\n",
        "                             verbose=1)\n",
        "\n",
        "earlystop = EarlyStopping(monitor='val_loss',\n",
        "                          min_delta=0,\n",
        "                          patience=3,\n",
        "                          verbose=1,\n",
        "                          restore_best_weights=True\n",
        "                          )\n",
        "\n",
        "reduce_lr = ReduceLROnPlateau(monitor='val_loss',\n",
        "                              factor=0.2,\n",
        "                              patience=3,\n",
        "                              verbose=1,\n",
        "                              min_delta=0.0001)\n",
        "\n",
        "callbacks = [earlystop,checkpoint,reduce_lr]"
      ],
      "execution_count": null,
      "outputs": []
    },
    {
      "cell_type": "code",
      "metadata": {
        "colab": {
          "base_uri": "https://localhost:8080/"
        },
        "id": "GdJikUpQy_Bh",
        "outputId": "b4f100a7-a3d5-48b5-b201-e76a05d9412c"
      },
      "source": [
        "rh = modelr.fit_generator(\n",
        "  train_dataset,\n",
        "  validation_data=valid_dataset,\n",
        "  epochs=5,\n",
        "  steps_per_epoch=len(train_dataset),\n",
        "  validation_steps=len(valid_dataset)\n",
        ")\n"
      ],
      "execution_count": 51,
      "outputs": [
        {
          "output_type": "stream",
          "text": [
            "/usr/local/lib/python3.7/dist-packages/tensorflow/python/keras/engine/training.py:1844: UserWarning: `Model.fit_generator` is deprecated and will be removed in a future version. Please use `Model.fit`, which supports generators.\n",
            "  warnings.warn('`Model.fit_generator` is deprecated and '\n"
          ],
          "name": "stderr"
        },
        {
          "output_type": "stream",
          "text": [
            "Epoch 1/5\n",
            "449/449 [==============================] - 352s 776ms/step - loss: 3.2301 - accuracy: 0.1936 - val_loss: 2.0477 - val_accuracy: 0.1805\n",
            "Epoch 2/5\n",
            "449/449 [==============================] - 346s 770ms/step - loss: 2.1144 - accuracy: 0.2162 - val_loss: 2.2980 - val_accuracy: 0.1926\n",
            "Epoch 3/5\n",
            "449/449 [==============================] - 345s 768ms/step - loss: 2.1960 - accuracy: 0.2221 - val_loss: 2.0994 - val_accuracy: 0.1930\n",
            "Epoch 4/5\n",
            "449/449 [==============================] - 345s 768ms/step - loss: 2.1445 - accuracy: 0.2340 - val_loss: 2.3079 - val_accuracy: 0.2940\n",
            "Epoch 5/5\n",
            "449/449 [==============================] - 345s 768ms/step - loss: 2.2364 - accuracy: 0.2259 - val_loss: 2.7573 - val_accuracy: 0.2620\n"
          ],
          "name": "stdout"
        }
      ]
    },
    {
      "cell_type": "markdown",
      "metadata": {
        "id": "-ZB74OAZBlLq"
      },
      "source": [
        "# **CNN other**"
      ]
    },
    {
      "cell_type": "code",
      "metadata": {
        "colab": {
          "base_uri": "https://localhost:8080/"
        },
        "id": "izLQvwkDBkmi",
        "outputId": "c89c7ed3-eb8d-4e20-eac3-bb91f605ed11"
      },
      "source": [
        "model = Sequential()\n",
        "\n",
        "# Block-1\n",
        "\n",
        "model.add(Conv2D(32,(3,3),padding='same',kernel_initializer='he_normal',input_shape=(48,48,1)))\n",
        "model.add(Activation('elu'))\n",
        "model.add(BatchNormalization())\n",
        "model.add(Conv2D(32,(3,3),padding='same',kernel_initializer='he_normal',input_shape=(48,48,1)))\n",
        "model.add(Activation('elu'))\n",
        "model.add(BatchNormalization())\n",
        "model.add(MaxPooling2D(pool_size=(2,2)))\n",
        "model.add(Dropout(0.2))\n",
        "\n",
        "# Block-2 \n",
        "\n",
        "model.add(Conv2D(64,(3,3),padding='same',kernel_initializer='he_normal'))\n",
        "model.add(Activation('elu'))\n",
        "model.add(BatchNormalization())\n",
        "model.add(Conv2D(64,(3,3),padding='same',kernel_initializer='he_normal'))\n",
        "model.add(Activation('elu'))\n",
        "model.add(BatchNormalization())\n",
        "model.add(MaxPooling2D(pool_size=(2,2)))\n",
        "model.add(Dropout(0.2))\n",
        "\n",
        "# Block-3\n",
        "\n",
        "model.add(Conv2D(128,(3,3),padding='same',kernel_initializer='he_normal'))\n",
        "model.add(Activation('elu'))\n",
        "model.add(BatchNormalization())\n",
        "model.add(Conv2D(128,(3,3),padding='same',kernel_initializer='he_normal'))\n",
        "model.add(Activation('elu'))\n",
        "model.add(BatchNormalization())\n",
        "model.add(MaxPooling2D(pool_size=(2,2)))\n",
        "model.add(Dropout(0.2))\n",
        "\n",
        "# Block-4 \n",
        "\n",
        "model.add(Conv2D(256,(3,3),padding='same',kernel_initializer='he_normal'))\n",
        "model.add(Activation('elu'))\n",
        "model.add(BatchNormalization())\n",
        "model.add(Conv2D(256,(3,3),padding='same',kernel_initializer='he_normal'))\n",
        "model.add(Activation('elu'))\n",
        "model.add(BatchNormalization())\n",
        "model.add(MaxPooling2D(pool_size=(2,2)))\n",
        "model.add(Dropout(0.2))\n",
        "\n",
        "# Block-5\n",
        "\n",
        "model.add(Flatten())\n",
        "model.add(Dense(64,kernel_initializer='he_normal'))\n",
        "model.add(Activation('elu'))\n",
        "model.add(BatchNormalization())\n",
        "model.add(Dropout(0.5))\n",
        "\n",
        "# Block-6\n",
        "\n",
        "model.add(Dense(64,kernel_initializer='he_normal'))\n",
        "model.add(Activation('elu'))\n",
        "model.add(BatchNormalization())\n",
        "model.add(Dropout(0.5))\n",
        "\n",
        "# Block-7\n",
        "\n",
        "model.add(Dense(7,kernel_initializer='he_normal'))\n",
        "model.add(Activation('softmax'))\n",
        "\n",
        "print(model.summary())\n"
      ],
      "execution_count": 53,
      "outputs": [
        {
          "output_type": "stream",
          "text": [
            "Model: \"sequential_2\"\n",
            "_________________________________________________________________\n",
            "Layer (type)                 Output Shape              Param #   \n",
            "=================================================================\n",
            "conv2d_4 (Conv2D)            (None, 48, 48, 32)        320       \n",
            "_________________________________________________________________\n",
            "activation (Activation)      (None, 48, 48, 32)        0         \n",
            "_________________________________________________________________\n",
            "batch_normalization_3 (Batch (None, 48, 48, 32)        128       \n",
            "_________________________________________________________________\n",
            "conv2d_5 (Conv2D)            (None, 48, 48, 32)        9248      \n",
            "_________________________________________________________________\n",
            "activation_1 (Activation)    (None, 48, 48, 32)        0         \n",
            "_________________________________________________________________\n",
            "batch_normalization_4 (Batch (None, 48, 48, 32)        128       \n",
            "_________________________________________________________________\n",
            "max_pooling2d_2 (MaxPooling2 (None, 24, 24, 32)        0         \n",
            "_________________________________________________________________\n",
            "dropout (Dropout)            (None, 24, 24, 32)        0         \n",
            "_________________________________________________________________\n",
            "conv2d_6 (Conv2D)            (None, 24, 24, 64)        18496     \n",
            "_________________________________________________________________\n",
            "activation_2 (Activation)    (None, 24, 24, 64)        0         \n",
            "_________________________________________________________________\n",
            "batch_normalization_5 (Batch (None, 24, 24, 64)        256       \n",
            "_________________________________________________________________\n",
            "conv2d_7 (Conv2D)            (None, 24, 24, 64)        36928     \n",
            "_________________________________________________________________\n",
            "activation_3 (Activation)    (None, 24, 24, 64)        0         \n",
            "_________________________________________________________________\n",
            "batch_normalization_6 (Batch (None, 24, 24, 64)        256       \n",
            "_________________________________________________________________\n",
            "max_pooling2d_3 (MaxPooling2 (None, 12, 12, 64)        0         \n",
            "_________________________________________________________________\n",
            "dropout_1 (Dropout)          (None, 12, 12, 64)        0         \n",
            "_________________________________________________________________\n",
            "conv2d_8 (Conv2D)            (None, 12, 12, 128)       73856     \n",
            "_________________________________________________________________\n",
            "activation_4 (Activation)    (None, 12, 12, 128)       0         \n",
            "_________________________________________________________________\n",
            "batch_normalization_7 (Batch (None, 12, 12, 128)       512       \n",
            "_________________________________________________________________\n",
            "conv2d_9 (Conv2D)            (None, 12, 12, 128)       147584    \n",
            "_________________________________________________________________\n",
            "activation_5 (Activation)    (None, 12, 12, 128)       0         \n",
            "_________________________________________________________________\n",
            "batch_normalization_8 (Batch (None, 12, 12, 128)       512       \n",
            "_________________________________________________________________\n",
            "max_pooling2d_4 (MaxPooling2 (None, 6, 6, 128)         0         \n",
            "_________________________________________________________________\n",
            "dropout_2 (Dropout)          (None, 6, 6, 128)         0         \n",
            "_________________________________________________________________\n",
            "conv2d_10 (Conv2D)           (None, 6, 6, 256)         295168    \n",
            "_________________________________________________________________\n",
            "activation_6 (Activation)    (None, 6, 6, 256)         0         \n",
            "_________________________________________________________________\n",
            "batch_normalization_9 (Batch (None, 6, 6, 256)         1024      \n",
            "_________________________________________________________________\n",
            "conv2d_11 (Conv2D)           (None, 6, 6, 256)         590080    \n",
            "_________________________________________________________________\n",
            "activation_7 (Activation)    (None, 6, 6, 256)         0         \n",
            "_________________________________________________________________\n",
            "batch_normalization_10 (Batc (None, 6, 6, 256)         1024      \n",
            "_________________________________________________________________\n",
            "max_pooling2d_5 (MaxPooling2 (None, 3, 3, 256)         0         \n",
            "_________________________________________________________________\n",
            "dropout_3 (Dropout)          (None, 3, 3, 256)         0         \n",
            "_________________________________________________________________\n",
            "flatten_3 (Flatten)          (None, 2304)              0         \n",
            "_________________________________________________________________\n",
            "dense_5 (Dense)              (None, 64)                147520    \n",
            "_________________________________________________________________\n",
            "activation_8 (Activation)    (None, 64)                0         \n",
            "_________________________________________________________________\n",
            "batch_normalization_11 (Batc (None, 64)                256       \n",
            "_________________________________________________________________\n",
            "dropout_4 (Dropout)          (None, 64)                0         \n",
            "_________________________________________________________________\n",
            "dense_6 (Dense)              (None, 64)                4160      \n",
            "_________________________________________________________________\n",
            "activation_9 (Activation)    (None, 64)                0         \n",
            "_________________________________________________________________\n",
            "batch_normalization_12 (Batc (None, 64)                256       \n",
            "_________________________________________________________________\n",
            "dropout_5 (Dropout)          (None, 64)                0         \n",
            "_________________________________________________________________\n",
            "dense_7 (Dense)              (None, 7)                 455       \n",
            "_________________________________________________________________\n",
            "activation_10 (Activation)   (None, 7)                 0         \n",
            "=================================================================\n",
            "Total params: 1,328,167\n",
            "Trainable params: 1,325,991\n",
            "Non-trainable params: 2,176\n",
            "_________________________________________________________________\n",
            "None\n"
          ],
          "name": "stdout"
        }
      ]
    },
    {
      "cell_type": "code",
      "metadata": {
        "id": "en22iN96BkHC"
      },
      "source": [
        "from keras.optimizers import RMSprop,SGD,Adam\n",
        "from keras.callbacks import ModelCheckpoint, EarlyStopping, ReduceLROnPlateau\n",
        "\n",
        "checkpoint = ModelCheckpoint('Emotion_little_vgg.h5',\n",
        "                             monitor='val_loss',\n",
        "                             mode='min',\n",
        "                             save_best_only=True,\n",
        "                             verbose=1)\n",
        "\n",
        "earlystop = EarlyStopping(monitor='val_loss',\n",
        "                          min_delta=0,\n",
        "                          patience=3,\n",
        "                          verbose=1,\n",
        "                          restore_best_weights=True\n",
        "                          )\n",
        "\n",
        "reduce_lr = ReduceLROnPlateau(monitor='val_loss',\n",
        "                              factor=0.2,\n",
        "                              patience=3,\n",
        "                              verbose=1,\n",
        "                              min_delta=0.0001)\n",
        "\n",
        "callbacks = [earlystop,checkpoint,reduce_lr]\n"
      ],
      "execution_count": 54,
      "outputs": []
    },
    {
      "cell_type": "code",
      "metadata": {
        "colab": {
          "base_uri": "https://localhost:8080/"
        },
        "id": "jKwvRWJLCIZ0",
        "outputId": "4b9f886d-ca3e-4430-ccba-0a2f69bfcd7d"
      },
      "source": [
        "model.compile(loss='categorical_crossentropy',\n",
        "              optimizer = Adam(lr=0.001),\n",
        "              metrics=['accuracy'])\n",
        "\n",
        "nb_train_samples = 28709\n",
        "nb_validation_samples = 5741\n",
        "epochs=25\n",
        "\n",
        "history=model.fit(\n",
        "                train_dataset1,\n",
        "                steps_per_epoch=nb_train_samples//32,\n",
        "                epochs=epochs,\n",
        "                callbacks=callbacks,\n",
        "                validation_data=valid_dataset1,\n",
        "                validation_steps=nb_validation_samples//32)\n"
      ],
      "execution_count": 57,
      "outputs": [
        {
          "output_type": "stream",
          "text": [
            "Epoch 1/25\n",
            "897/897 [==============================] - 57s 62ms/step - loss: 2.4341 - accuracy: 0.1909 - val_loss: 1.8152 - val_accuracy: 0.2750\n",
            "\n",
            "Epoch 00001: val_loss improved from inf to 1.81515, saving model to Emotion_little_vgg.h5\n",
            "Epoch 2/25\n",
            "897/897 [==============================] - 55s 62ms/step - loss: 1.7813 - accuracy: 0.2763 - val_loss: 1.5193 - val_accuracy: 0.3958\n",
            "\n",
            "Epoch 00002: val_loss improved from 1.81515 to 1.51928, saving model to Emotion_little_vgg.h5\n",
            "Epoch 3/25\n",
            "897/897 [==============================] - 55s 61ms/step - loss: 1.6066 - accuracy: 0.3709 - val_loss: 1.3527 - val_accuracy: 0.4811\n",
            "\n",
            "Epoch 00003: val_loss improved from 1.51928 to 1.35273, saving model to Emotion_little_vgg.h5\n",
            "Epoch 4/25\n",
            "897/897 [==============================] - 56s 62ms/step - loss: 1.4554 - accuracy: 0.4399 - val_loss: 1.2930 - val_accuracy: 0.5017\n",
            "\n",
            "Epoch 00004: val_loss improved from 1.35273 to 1.29304, saving model to Emotion_little_vgg.h5\n",
            "Epoch 5/25\n",
            "897/897 [==============================] - 56s 62ms/step - loss: 1.3801 - accuracy: 0.4731 - val_loss: 1.2123 - val_accuracy: 0.5246\n",
            "\n",
            "Epoch 00005: val_loss improved from 1.29304 to 1.21228, saving model to Emotion_little_vgg.h5\n",
            "Epoch 6/25\n",
            "897/897 [==============================] - 56s 62ms/step - loss: 1.3168 - accuracy: 0.5063 - val_loss: 1.1734 - val_accuracy: 0.5522\n",
            "\n",
            "Epoch 00006: val_loss improved from 1.21228 to 1.17343, saving model to Emotion_little_vgg.h5\n",
            "Epoch 7/25\n",
            "897/897 [==============================] - 56s 62ms/step - loss: 1.2983 - accuracy: 0.5161 - val_loss: 1.1492 - val_accuracy: 0.5681\n",
            "\n",
            "Epoch 00007: val_loss improved from 1.17343 to 1.14919, saving model to Emotion_little_vgg.h5\n",
            "Epoch 8/25\n",
            "897/897 [==============================] - 56s 62ms/step - loss: 1.2571 - accuracy: 0.5304 - val_loss: 1.1527 - val_accuracy: 0.5595\n",
            "\n",
            "Epoch 00008: val_loss did not improve from 1.14919\n",
            "Epoch 9/25\n",
            "897/897 [==============================] - 55s 62ms/step - loss: 1.2203 - accuracy: 0.5541 - val_loss: 1.1264 - val_accuracy: 0.5726\n",
            "\n",
            "Epoch 00009: val_loss improved from 1.14919 to 1.12635, saving model to Emotion_little_vgg.h5\n",
            "Epoch 10/25\n",
            "897/897 [==============================] - 55s 62ms/step - loss: 1.2094 - accuracy: 0.5537 - val_loss: 1.0802 - val_accuracy: 0.5990\n",
            "\n",
            "Epoch 00010: val_loss improved from 1.12635 to 1.08021, saving model to Emotion_little_vgg.h5\n",
            "Epoch 11/25\n",
            "897/897 [==============================] - 56s 62ms/step - loss: 1.1822 - accuracy: 0.5640 - val_loss: 1.0629 - val_accuracy: 0.5924\n",
            "\n",
            "Epoch 00011: val_loss improved from 1.08021 to 1.06292, saving model to Emotion_little_vgg.h5\n",
            "Epoch 12/25\n",
            "897/897 [==============================] - 56s 62ms/step - loss: 1.1614 - accuracy: 0.5708 - val_loss: 1.0211 - val_accuracy: 0.6147\n",
            "\n",
            "Epoch 00012: val_loss improved from 1.06292 to 1.02109, saving model to Emotion_little_vgg.h5\n",
            "Epoch 13/25\n",
            "897/897 [==============================] - 56s 62ms/step - loss: 1.1505 - accuracy: 0.5759 - val_loss: 1.0012 - val_accuracy: 0.6285\n",
            "\n",
            "Epoch 00013: val_loss improved from 1.02109 to 1.00125, saving model to Emotion_little_vgg.h5\n",
            "Epoch 14/25\n",
            "897/897 [==============================] - 55s 62ms/step - loss: 1.1408 - accuracy: 0.5816 - val_loss: 0.9686 - val_accuracy: 0.6444\n",
            "\n",
            "Epoch 00014: val_loss improved from 1.00125 to 0.96857, saving model to Emotion_little_vgg.h5\n",
            "Epoch 15/25\n",
            "897/897 [==============================] - 56s 62ms/step - loss: 1.1218 - accuracy: 0.5895 - val_loss: 0.9994 - val_accuracy: 0.6229\n",
            "\n",
            "Epoch 00015: val_loss did not improve from 0.96857\n",
            "Epoch 16/25\n",
            "897/897 [==============================] - 56s 62ms/step - loss: 1.1098 - accuracy: 0.5965 - val_loss: 1.0001 - val_accuracy: 0.6271\n",
            "\n",
            "Epoch 00016: val_loss did not improve from 0.96857\n",
            "Epoch 17/25\n",
            "897/897 [==============================] - 56s 62ms/step - loss: 1.0960 - accuracy: 0.6020 - val_loss: 0.9635 - val_accuracy: 0.6383\n",
            "\n",
            "Epoch 00017: val_loss improved from 0.96857 to 0.96352, saving model to Emotion_little_vgg.h5\n",
            "Epoch 18/25\n",
            "897/897 [==============================] - 56s 63ms/step - loss: 1.0950 - accuracy: 0.6047 - val_loss: 0.9423 - val_accuracy: 0.6512\n",
            "\n",
            "Epoch 00018: val_loss improved from 0.96352 to 0.94228, saving model to Emotion_little_vgg.h5\n",
            "Epoch 19/25\n",
            "897/897 [==============================] - 56s 62ms/step - loss: 1.0805 - accuracy: 0.6014 - val_loss: 0.9190 - val_accuracy: 0.6629\n",
            "\n",
            "Epoch 00019: val_loss improved from 0.94228 to 0.91902, saving model to Emotion_little_vgg.h5\n",
            "Epoch 20/25\n",
            "897/897 [==============================] - 56s 62ms/step - loss: 1.0591 - accuracy: 0.6154 - val_loss: 0.9244 - val_accuracy: 0.6562\n",
            "\n",
            "Epoch 00020: val_loss did not improve from 0.91902\n",
            "Epoch 21/25\n",
            "897/897 [==============================] - 56s 62ms/step - loss: 1.0765 - accuracy: 0.6047 - val_loss: 0.9188 - val_accuracy: 0.6576\n",
            "\n",
            "Epoch 00021: val_loss improved from 0.91902 to 0.91877, saving model to Emotion_little_vgg.h5\n",
            "Epoch 22/25\n",
            "897/897 [==============================] - 55s 62ms/step - loss: 1.0617 - accuracy: 0.6116 - val_loss: 0.8847 - val_accuracy: 0.6730\n",
            "\n",
            "Epoch 00022: val_loss improved from 0.91877 to 0.88474, saving model to Emotion_little_vgg.h5\n",
            "Epoch 23/25\n",
            "897/897 [==============================] - 56s 62ms/step - loss: 1.0348 - accuracy: 0.6239 - val_loss: 0.8849 - val_accuracy: 0.6749\n",
            "\n",
            "Epoch 00023: val_loss did not improve from 0.88474\n",
            "Epoch 24/25\n",
            "897/897 [==============================] - 56s 63ms/step - loss: 1.0371 - accuracy: 0.6222 - val_loss: 0.8916 - val_accuracy: 0.6718\n",
            "\n",
            "Epoch 00024: val_loss did not improve from 0.88474\n",
            "Epoch 25/25\n",
            "897/897 [==============================] - 56s 62ms/step - loss: 1.0365 - accuracy: 0.6227 - val_loss: 0.8948 - val_accuracy: 0.6716\n",
            "Restoring model weights from the end of the best epoch.\n",
            "\n",
            "Epoch 00025: val_loss did not improve from 0.88474\n",
            "\n",
            "Epoch 00025: ReduceLROnPlateau reducing learning rate to 0.00020000000949949026.\n",
            "Epoch 00025: early stopping\n"
          ],
          "name": "stdout"
        }
      ]
    },
    {
      "cell_type": "code",
      "metadata": {
        "colab": {
          "base_uri": "https://localhost:8080/"
        },
        "id": "jhL1ymDFIyBo",
        "outputId": "e366a405-1745-4845-f6ec-d96e12ad2bf0"
      },
      "source": [
        "result = model.evaluate(\n",
        "    test_dataset1,\n",
        "    batch_size = batch_size,\n",
        ")"
      ],
      "execution_count": 61,
      "outputs": [
        {
          "output_type": "stream",
          "text": [
            "225/225 [==============================] - 8s 37ms/step - loss: 0.9712 - accuracy: 0.6408\n"
          ],
          "name": "stdout"
        }
      ]
    },
    {
      "cell_type": "markdown",
      "metadata": {
        "id": "gONpRSjNRFED"
      },
      "source": [
        "# **SAVE** **MODEL**"
      ]
    },
    {
      "cell_type": "code",
      "metadata": {
        "id": "TT71Mgjj2XCH",
        "colab": {
          "base_uri": "https://localhost:8080/",
          "height": 282
        },
        "outputId": "4a48cf81-31ea-4289-dda3-ebc5a5fab441"
      },
      "source": [
        "# loss\n",
        "plt.plot(history.history['loss'], label='train loss')\n",
        "plt.plot(history.history['val_loss'], label='val loss')\n",
        "plt.legend()\n",
        "plt.show()\n",
        "plt.savefig('LossVal_loss1')"
      ],
      "execution_count": 58,
      "outputs": [
        {
          "output_type": "display_data",
          "data": {
            "image/png": "[encoded data removed]",
            "text/plain": [
              "<Figure size 432x288 with 1 Axes>"
            ]
          },
          "metadata": {
            "tags": [],
            "needs_background": "light"
          }
        },
        {
          "output_type": "display_data",
          "data": {
            "text/plain": [
              "<Figure size 432x288 with 0 Axes>"
            ]
          },
          "metadata": {
            "tags": []
          }
        }
      ]
    },
    {
      "cell_type": "code",
      "metadata": {
        "colab": {
          "base_uri": "https://localhost:8080/",
          "height": 282
        },
        "id": "8imMb-HWqodT",
        "outputId": "6bf293e0-cf00-4a67-e3e2-28c9d67a843d"
      },
      "source": [
        "# accuracies\n",
        "plt.plot(history.history['accuracy'], label='train acc')\n",
        "plt.plot(history.history['val_accuracy'], label='val acc')\n",
        "plt.legend()\n",
        "plt.show()\n",
        "plt.savefig('AccVal_acc1')"
      ],
      "execution_count": 59,
      "outputs": [
        {
          "output_type": "display_data",
          "data": {
            "image/png": "[encoded data removed]",
            "text/plain": [
              "<Figure size 432x288 with 1 Axes>"
            ]
          },
          "metadata": {
            "tags": [],
            "needs_background": "light"
          }
        },
        {
          "output_type": "display_data",
          "data": {
            "text/plain": [
              "<Figure size 432x288 with 0 Axes>"
            ]
          },
          "metadata": {
            "tags": []
          }
        }
      ]
    },
    {
      "cell_type": "code",
      "metadata": {
        "id": "rieM8andqlVt"
      },
      "source": [
        "import tensorflow as tf\n",
        "from keras.models import load_model\n",
        "\n",
        "model.save('facefeatures_new_model.h5')"
      ],
      "execution_count": null,
      "outputs": []
    }
  ]
}